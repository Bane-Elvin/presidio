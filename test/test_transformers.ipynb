{
 "cells": [
  {
   "metadata": {},
   "cell_type": "markdown",
   "source": [
    "首先需要加载transformers模型，英文模型选择了obi/deid_roberta_i2b2，这个模型采用了i2b2这个医疗实体数据集，其中实体包含了如下，由于这是官方实例，所以给出了configuration.py文件中定义的转换字典。\n",
    "~~~\n",
    "# configuration_dict\n",
    "\"MODEL_TO_PRESIDIO_MAPPING\": {\n",
    "        \"PER\": \"PERSON\",\n",
    "        \"LOC\": \"LOCATION\",\n",
    "        \"ORG\": \"ORGANIZATION\",\n",
    "        \"AGE\": \"AGE\",\n",
    "        \"ID\": \"ID\",\n",
    "        \"EMAIL\": \"EMAIL\",\n",
    "        \"PATIENT\": \"PERSON\",\n",
    "        \"STAFF\": \"PERSON\",\n",
    "        \"HOSP\": \"ORGANIZATION\",\n",
    "        \"PATORG\": \"ORGANIZATION\",\n",
    "        \"DATE\": \"DATE_TIME\",\n",
    "        \"PHONE\": \"PHONE_NUMBER\",\n",
    "    }\n",
    "~~~\n",
    "中文模型选择了gyr66/RoBERTa-ext-large-chinese-finetuned-ner,这个模型采用了中文数据集[privacy_detection](https://www.datafountain.cn/competitions/472)，准确率可以达到0.9629"
   ],
   "id": "16a6cdccd6c9beb"
  },
  {
   "cell_type": "code",
   "id": "initial_id",
   "metadata": {
    "collapsed": true,
    "ExecuteTime": {
     "end_time": "2024-12-25T07:50:33.841471Z",
     "start_time": "2024-12-25T07:50:33.705178Z"
    }
   },
   "source": [
    "from transformers import AutoTokenizer, AutoModelForTokenClassification\n",
    "\n",
    "transformers_model = \"/home/elvin/NAS-Disk-1/program/models/NER/deid_roberta_i2b2\"\n",
    "AutoTokenizer.from_pretrained(transformers_model)\n",
    "AutoModelForTokenClassification.from_pretrained(transformers_model)"
   ],
   "outputs": [
    {
     "data": {
      "text/plain": [
       "RobertaForTokenClassification(\n",
       "  (roberta): RobertaModel(\n",
       "    (embeddings): RobertaEmbeddings(\n",
       "      (word_embeddings): Embedding(50265, 1024, padding_idx=1)\n",
       "      (position_embeddings): Embedding(514, 1024, padding_idx=1)\n",
       "      (token_type_embeddings): Embedding(1, 1024)\n",
       "      (LayerNorm): LayerNorm((1024,), eps=1e-05, elementwise_affine=True)\n",
       "      (dropout): Dropout(p=0.1, inplace=False)\n",
       "    )\n",
       "    (encoder): RobertaEncoder(\n",
       "      (layer): ModuleList(\n",
       "        (0-23): 24 x RobertaLayer(\n",
       "          (attention): RobertaAttention(\n",
       "            (self): RobertaSdpaSelfAttention(\n",
       "              (query): Linear(in_features=1024, out_features=1024, bias=True)\n",
       "              (key): Linear(in_features=1024, out_features=1024, bias=True)\n",
       "              (value): Linear(in_features=1024, out_features=1024, bias=True)\n",
       "              (dropout): Dropout(p=0.1, inplace=False)\n",
       "            )\n",
       "            (output): RobertaSelfOutput(\n",
       "              (dense): Linear(in_features=1024, out_features=1024, bias=True)\n",
       "              (LayerNorm): LayerNorm((1024,), eps=1e-05, elementwise_affine=True)\n",
       "              (dropout): Dropout(p=0.1, inplace=False)\n",
       "            )\n",
       "          )\n",
       "          (intermediate): RobertaIntermediate(\n",
       "            (dense): Linear(in_features=1024, out_features=4096, bias=True)\n",
       "            (intermediate_act_fn): GELUActivation()\n",
       "          )\n",
       "          (output): RobertaOutput(\n",
       "            (dense): Linear(in_features=4096, out_features=1024, bias=True)\n",
       "            (LayerNorm): LayerNorm((1024,), eps=1e-05, elementwise_affine=True)\n",
       "            (dropout): Dropout(p=0.1, inplace=False)\n",
       "          )\n",
       "        )\n",
       "      )\n",
       "    )\n",
       "  )\n",
       "  (dropout): Dropout(p=0.1, inplace=False)\n",
       "  (classifier): Linear(in_features=1024, out_features=45, bias=True)\n",
       ")"
      ]
     },
     "execution_count": 2,
     "metadata": {},
     "output_type": "execute_result"
    }
   ],
   "execution_count": 2
  },
  {
   "metadata": {},
   "cell_type": "markdown",
   "source": "加载配置文件，这里直接创建两个字典",
   "id": "430b00f28ff3daea"
  },
  {
   "metadata": {
    "ExecuteTime": {
     "end_time": "2024-12-25T13:37:16.328166Z",
     "start_time": "2024-12-25T13:37:16.324904Z"
    }
   },
   "cell_type": "code",
   "source": [
    "# Transformer model config\n",
    "model_config = [\n",
    "    {\"lang_code\": \"en\",\n",
    "     \"model_name\": {\n",
    "         \"spacy\": \"en_core_web_sm\", # for tokenization, lemmatization\n",
    "         \"transformers\": \"/home/elvin/NAS-Disk-1/program/models/NER/deid_roberta_i2b2\" # for NER\n",
    "         # \"transformers\": \"/home/elvin/NAS-Disk-1/program/models/NER/RoBERTa-ext-large-crf-chinese-finetuned-ner-v2\"\n",
    "    }\n",
    "}]\n",
    "\n",
    "# Entity mappings between the model's and Presidio's\n",
    "mapping = dict(\n",
    "    PER=\"PERSON\",\n",
    "    LOC=\"LOCATION\",\n",
    "    ORG=\"ORGANIZATION\",\n",
    "    AGE=\"AGE\",\n",
    "    ID=\"ID\",\n",
    "    EMAIL=\"EMAIL\",\n",
    "    DATE=\"DATE_TIME\",\n",
    "    PHONE=\"PHONE_NUMBER\",\n",
    "    PERSON=\"PERSON\",\n",
    "    LOCATION=\"LOCATION\",\n",
    "    GPE=\"LOCATION\",\n",
    "    ORGANIZATION=\"ORGANIZATION\",\n",
    "    NORP=\"NRP\",\n",
    "    PATIENT=\"PERSON\",\n",
    "    STAFF=\"PERSON\",\n",
    "    HOSP=\"LOCATION\",\n",
    "    PATORG=\"ORGANIZATION\",\n",
    "    TIME=\"DATE_TIME\",\n",
    "    HCW=\"PERSON\",\n",
    "    HOSPITAL=\"LOCATION\",\n",
    "    FACILITY=\"LOCATION\",\n",
    "    VENDOR=\"ORGANIZATION\",\n",
    ")\n",
    "\n",
    "\n",
    "labels_to_ignore = [\"O\"]\n"
   ],
   "id": "64ef324d99610ba5",
   "outputs": [],
   "execution_count": 10
  },
  {
   "metadata": {},
   "cell_type": "markdown",
   "source": "通过presidio加载transformers库 模型",
   "id": "1832d04dd32ebb3e"
  },
  {
   "metadata": {
    "ExecuteTime": {
     "end_time": "2024-12-25T13:37:37.441181Z",
     "start_time": "2024-12-25T13:37:37.158721Z"
    }
   },
   "cell_type": "code",
   "source": [
    "from presidio_analyzer import AnalyzerEngine\n",
    "from presidio_analyzer.nlp_engine import NerModelConfiguration, TransformersNlpEngine\n",
    "ner_model_configuration = NerModelConfiguration(\n",
    "    model_to_presidio_entity_mapping=mapping,\n",
    "    alignment_mode=\"expand\", # \"strict\", \"contract\", \"expand\"\n",
    "    aggregation_strategy=\"max\", # \"simple\", \"first\", \"average\", \"max\"\n",
    "    labels_to_ignore = labels_to_ignore)\n",
    "\n",
    "transformers_nlp_engine = TransformersNlpEngine(\n",
    "    models=model_config,\n",
    "    ner_model_configuration=ner_model_configuration)\n",
    "\n",
    "# Transformer-based analyzer\n",
    "analyzer = AnalyzerEngine(\n",
    "    nlp_engine=transformers_nlp_engine,\n",
    "    supported_languages=[\"en\"]\n",
    ")\n",
    "transformers_nlp_engine.get_supported_languages()"
   ],
   "id": "23270d59e68458a6",
   "outputs": [
    {
     "name": "stderr",
     "output_type": "stream",
     "text": [
      "Device set to use cpu\n"
     ]
    },
    {
     "data": {
      "text/plain": [
       "['en']"
      ]
     },
     "execution_count": 12,
     "metadata": {},
     "output_type": "execute_result"
    }
   ],
   "execution_count": 12
  },
  {
   "metadata": {},
   "cell_type": "markdown",
   "source": "接口调用：",
   "id": "e80137c98a0ab65b"
  },
  {
   "metadata": {
    "ExecuteTime": {
     "end_time": "2024-12-25T08:09:53.958638Z",
     "start_time": "2024-12-25T08:09:53.839370Z"
    }
   },
   "cell_type": "code",
   "source": [
    "results_english = analyzer.analyze(text=\"My name is Morris\", language=\"en\")\n",
    "print(results_english)"
   ],
   "id": "50fffa0229433b4b",
   "outputs": [
    {
     "name": "stdout",
     "output_type": "stream",
     "text": [
      "[type: PERSON, start: 11, end: 17, score: 0.9946103096008301]\n"
     ]
    },
    {
     "name": "stderr",
     "output_type": "stream",
     "text": [
      "/home/elvin/.conda/envs/envPre/lib/python3.9/site-packages/transformers/pipelines/token_classification.py:398: UserWarning: Tokenizer does not support real words, using fallback heuristic\n",
      "  warnings.warn(\n"
     ]
    }
   ],
   "execution_count": 8
  },
  {
   "metadata": {},
   "cell_type": "markdown",
   "source": "### 中文测试\n",
   "id": "9b48dacfae110fe0"
  },
  {
   "metadata": {
    "ExecuteTime": {
     "end_time": "2024-12-26T04:10:49.270872Z",
     "start_time": "2024-12-26T04:10:49.266478Z"
    }
   },
   "cell_type": "code",
   "source": [
    "# Transformer model config\n",
    "model_config = [\n",
    "    {\"lang_code\": \"zh\",\n",
    "     \"model_name\": {\n",
    "         \"spacy\": \"zh_core_web_sm\", # for tokenization, lemmatization\n",
    "         # \"transformers\": \"/home/elvin/NAS-Disk-1/program/models/NER/deid_roberta_i2b2\" # for NER\n",
    "         \"transformers\": \"/home/elvin/NAS-Disk-1/program/models/NER/RoBERTa-ext-large-crf-chinese-finetuned-ner-v2\"\n",
    "    }\n",
    "}]\n",
    "\n",
    "# Entity mappings between the model's and Presidio's\n",
    "# mapping = dict(\n",
    "#     PER=\"PERSON\",\n",
    "#     LOC=\"LOCATION\",\n",
    "#     ORG=\"ORGANIZATION\",\n",
    "#     AGE=\"AGE\",\n",
    "#     ID=\"ID\",\n",
    "#     EMAIL=\"EMAIL\",\n",
    "#     DATE=\"DATE_TIME\",\n",
    "#     PHONE=\"PHONE_NUMBER\",\n",
    "#     PERSON=\"PERSON\",\n",
    "#     LOCATION=\"LOCATION\",\n",
    "#     GPE=\"LOCATION\",\n",
    "#     ORGANIZATION=\"ORGANIZATION\",\n",
    "#     NORP=\"NRP\",\n",
    "#     PATIENT=\"PERSON\",\n",
    "#     STAFF=\"PERSON\",\n",
    "#     HOSP=\"LOCATION\",\n",
    "#     PATORG=\"ORGANIZATION\",\n",
    "#     TIME=\"DATE_TIME\",\n",
    "#     HCW=\"PERSON\",\n",
    "#     HOSPITAL=\"LOCATION\",\n",
    "#     FACILITY=\"LOCATION\",\n",
    "#     VENDOR=\"ORGANIZATION\",\n",
    "# )\n",
    "\n",
    "mapping = dict(\n",
    "    position=\"LOCATION\",\n",
    "    name=\"PERSON\",\n",
    "    movie=\"TITLE\",\n",
    "    organization=\"ORGANIZATION\",\n",
    "    company=\"ORGANIZATION\",\n",
    "    book=\"TITLE\",\n",
    "    address=\"LOCATION\",\n",
    "    scene=\"LOCATION\",\n",
    "    mobile=\"PHONE_NUMBER\",\n",
    "    email=\"EMAIL\",\n",
    "    game=\"TITLE\",\n",
    "    government=\"ORGANIZATION\",\n",
    "    QQ=\"ID\",\n",
    "    vx=\"ID\",\n",
    ")\n",
    "\n",
    "labels_to_ignore = [\"O\"]\n"
   ],
   "id": "8aad134cb7948a45",
   "outputs": [],
   "execution_count": 1
  },
  {
   "metadata": {
    "ExecuteTime": {
     "end_time": "2024-12-26T04:10:55.320861Z",
     "start_time": "2024-12-26T04:10:51.620996Z"
    }
   },
   "cell_type": "code",
   "source": [
    "from presidio_analyzer import AnalyzerEngine\n",
    "from presidio_analyzer.nlp_engine import NerModelConfiguration, TransformersNlpEngine\n",
    "ner_model_configuration = NerModelConfiguration(\n",
    "    model_to_presidio_entity_mapping=mapping,\n",
    "    alignment_mode=\"expand\", # \"strict\", \"contract\", \"expand\"\n",
    "    aggregation_strategy=\"max\", # \"simple\", \"first\", \"average\", \"max\"\n",
    "    labels_to_ignore = labels_to_ignore)\n",
    "\n",
    "transformers_nlp_engine = TransformersNlpEngine(\n",
    "    models=model_config,\n",
    "    ner_model_configuration=ner_model_configuration)\n",
    "\n",
    "# Transformer-based analyzer\n",
    "analyzer = AnalyzerEngine(\n",
    "    nlp_engine=transformers_nlp_engine,\n",
    "    supported_languages=[\"zh\"]\n",
    ")\n",
    "transformers_nlp_engine.get_supported_languages()"
   ],
   "id": "9dc3fbf50ae8f58",
   "outputs": [
    {
     "name": "stderr",
     "output_type": "stream",
     "text": [
      "/home/elvin/.conda/envs/envPre/lib/python3.9/site-packages/tqdm/auto.py:21: TqdmWarning: IProgress not found. Please update jupyter and ipywidgets. See https://ipywidgets.readthedocs.io/en/stable/user_install.html\n",
      "  from .autonotebook import tqdm as notebook_tqdm\n",
      "Device set to use cpu\n"
     ]
    },
    {
     "data": {
      "text/plain": [
       "['zh']"
      ]
     },
     "execution_count": 2,
     "metadata": {},
     "output_type": "execute_result"
    }
   ],
   "execution_count": 2
  },
  {
   "metadata": {
    "ExecuteTime": {
     "end_time": "2024-12-26T04:11:56.259156Z",
     "start_time": "2024-12-26T04:11:43.467613Z"
    }
   },
   "cell_type": "code",
   "source": [
    "results_chinese = analyzer.analyze(text=\"我的名字是万国安，手机电话是18023333333\", language=\"zh\")\n",
    "print(results_chinese)"
   ],
   "id": "e1fefe8cbc33c691",
   "outputs": [
    {
     "name": "stderr",
     "output_type": "stream",
     "text": [
      "Asking to truncate to max_length but no maximum length is provided and the model has no predefined maximum length. Default to no truncation.\n"
     ]
    },
    {
     "name": "stdout",
     "output_type": "stream",
     "text": [
      "[type: PERSON, start: 5, end: 8, score: 0.9885568618774414, type: PHONE_NUMBER, start: 14, end: 25, score: 0.4]\n"
     ]
    }
   ],
   "execution_count": 3
  }
 ],
 "metadata": {
  "kernelspec": {
   "display_name": "Python 3",
   "language": "python",
   "name": "python3"
  },
  "language_info": {
   "codemirror_mode": {
    "name": "ipython",
    "version": 2
   },
   "file_extension": ".py",
   "mimetype": "text/x-python",
   "name": "python",
   "nbconvert_exporter": "python",
   "pygments_lexer": "ipython2",
   "version": "2.7.6"
  }
 },
 "nbformat": 4,
 "nbformat_minor": 5
}
