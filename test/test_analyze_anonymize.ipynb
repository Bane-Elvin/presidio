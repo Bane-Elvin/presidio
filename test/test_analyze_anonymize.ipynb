{
 "cells": [
  {
   "cell_type": "code",
   "id": "initial_id",
   "metadata": {
    "collapsed": true,
    "ExecuteTime": {
     "end_time": "2024-12-26T05:00:04.489772Z",
     "start_time": "2024-12-26T05:00:02.214584Z"
    }
   },
   "source": [
    "from presidio_analyzer import AnalyzerEngine\n",
    "from presidio_analyzer.nlp_engine import NerModelConfiguration, TransformersNlpEngine\n",
    "\n",
    "model_config = [\n",
    "    {\"lang_code\": \"zh\",\n",
    "     \"model_name\": {\n",
    "         \"spacy\": \"zh_core_web_sm\", # for tokenization, lemmatization\n",
    "         # \"transformers\": \"/home/elvin/NAS-Disk-1/program/models/NER/deid_roberta_i2b2\" # for NER\n",
    "         \"transformers\": \"/home/elvin/NAS-Disk-1/program/models/NER/RoBERTa-ext-large-crf-chinese-finetuned-ner-v2\"\n",
    "    }\n",
    "}\n",
    "]\n",
    "\n",
    "mapping = dict(\n",
    "    position=\"LOCATION\",\n",
    "    name=\"PERSON\",\n",
    "    movie=\"TITLE\",\n",
    "    organization=\"ORGANIZATION\",\n",
    "    company=\"ORGANIZATION\",\n",
    "    book=\"TITLE\",\n",
    "    address=\"LOCATION\",\n",
    "    scene=\"LOCATION\",\n",
    "    mobile=\"PHONE_NUMBER\",\n",
    "    email=\"EMAIL\",\n",
    "    game=\"TITLE\",\n",
    "    government=\"ORGANIZATION\",\n",
    "    QQ=\"ID\",\n",
    "    vx=\"ID\",\n",
    ")\n",
    "\n",
    "labels_to_ignore = [\"O\"]\n",
    "\n",
    "ner_model_configuration = NerModelConfiguration(\n",
    "    model_to_presidio_entity_mapping=mapping,\n",
    "    alignment_mode=\"expand\", # \"strict\", \"contract\", \"expand\"\n",
    "    aggregation_strategy=\"max\", # \"simple\", \"first\", \"average\", \"max\"\n",
    "    labels_to_ignore = labels_to_ignore)\n",
    "\n",
    "transformers_nlp_engine = TransformersNlpEngine(\n",
    "    models=model_config,\n",
    "    ner_model_configuration=ner_model_configuration)\n",
    "\n",
    "# Transformer-based analyzer\n",
    "analyzer = AnalyzerEngine(\n",
    "    nlp_engine=transformers_nlp_engine,\n",
    "    supported_languages=[\"zh\"]\n",
    ")"
   ],
   "outputs": [
    {
     "name": "stderr",
     "output_type": "stream",
     "text": [
      "/home/elvin/.conda/envs/envPre/lib/python3.9/site-packages/tqdm/auto.py:21: TqdmWarning: IProgress not found. Please update jupyter and ipywidgets. See https://ipywidgets.readthedocs.io/en/stable/user_install.html\n",
      "  from .autonotebook import tqdm as notebook_tqdm\n",
      "Device set to use cpu\n"
     ]
    }
   ],
   "execution_count": 1
  },
  {
   "metadata": {},
   "cell_type": "markdown",
   "source": "中文 anonymize 测试",
   "id": "9694daaf082e56d3"
  },
  {
   "metadata": {
    "ExecuteTime": {
     "end_time": "2024-12-26T05:58:45.226386Z",
     "start_time": "2024-12-26T05:58:44.979868Z"
    }
   },
   "cell_type": "code",
   "source": [
    "from presidio_anonymizer import AnonymizerEngine, DeanonymizeEngine\n",
    "engine = AnonymizerEngine()\n",
    "analyzer_test = \"我的名字是万国安，手机电话是18023333333\"\n",
    "results_chinese = analyzer.analyze(text=analyzer_test, language=\"zh\")\n",
    "result = engine.anonymize(\n",
    "    text=analyzer_test, analyzer_results=results_chinese\n",
    ")\n",
    "print(result.text)"
   ],
   "id": "15874065302694f0",
   "outputs": [
    {
     "name": "stderr",
     "output_type": "stream",
     "text": [
      "Asking to truncate to max_length but no maximum length is provided and the model has no predefined maximum length. Default to no truncation.\n"
     ]
    },
    {
     "name": "stdout",
     "output_type": "stream",
     "text": [
      "我的名字是<PERSON>，手机电话是<PHONE_NUMBER>\n"
     ]
    }
   ],
   "execution_count": 2
  },
  {
   "metadata": {},
   "cell_type": "markdown",
   "source": "加密操作",
   "id": "3cea4fa696b4d2fe"
  },
  {
   "metadata": {
    "ExecuteTime": {
     "end_time": "2024-12-26T06:04:09.582687Z",
     "start_time": "2024-12-26T06:04:09.580207Z"
    }
   },
   "cell_type": "code",
   "source": [
    "from presidio_anonymizer import AnonymizerEngine, DeanonymizeEngine\n",
    "from presidio_anonymizer.entities import (\n",
    "    RecognizerResult,\n",
    "    OperatorResult,\n",
    "    OperatorConfig,\n",
    ")"
   ],
   "id": "ac6ce1ee1071184e",
   "outputs": [],
   "execution_count": 3
  },
  {
   "metadata": {
    "ExecuteTime": {
     "end_time": "2024-12-26T06:04:11.009863Z",
     "start_time": "2024-12-26T06:04:11.007621Z"
    }
   },
   "cell_type": "code",
   "source": "crypto_key = \"WmZq4t7w!z%C&F)J\"",
   "id": "8ba0171387225968",
   "outputs": [],
   "execution_count": 4
  },
  {
   "metadata": {
    "ExecuteTime": {
     "end_time": "2024-12-26T06:11:26.845753Z",
     "start_time": "2024-12-26T06:11:26.842132Z"
    }
   },
   "cell_type": "code",
   "source": [
    "engine = AnonymizerEngine()\n",
    "\n",
    "# Invoke the anonymize function with the text,\n",
    "# analyzer results (potentially coming from presidio-analyzer)\n",
    "# and an 'encrypt' operator to get an encrypted anonymization output:\n",
    "anonymize_result = engine.anonymize(\n",
    "    text=analyzer_test,\n",
    "    analyzer_results=results_chinese,\n",
    "    operators={\n",
    "        \"PERSON\": OperatorConfig(\"encrypt\", {\"key\": crypto_key}),\n",
    "        \"PHONE_NUMBER\": OperatorConfig(\"encrypt\", {\"key\": crypto_key}),\n",
    "    },\n",
    ")\n",
    "\n",
    "anonymize_result"
   ],
   "id": "42ab2fe86ddb7b01",
   "outputs": [
    {
     "data": {
      "text/plain": [
       "text: 我的名字是ItFStolVoqU7NnlMwDc7YdYtwKPsF6OxHshahz1Fhw0=，手机电话是m4c0PqH2dWoTvz0B9qAq+3zGwMduIYNnOTbzyiVWZb8=\n",
       "items:\n",
       "[\n",
       "    {'start': 55, 'end': 99, 'entity_type': 'PHONE_NUMBER', 'text': 'm4c0PqH2dWoTvz0B9qAq+3zGwMduIYNnOTbzyiVWZb8=', 'operator': 'encrypt'},\n",
       "    {'start': 5, 'end': 49, 'entity_type': 'PERSON', 'text': 'ItFStolVoqU7NnlMwDc7YdYtwKPsF6OxHshahz1Fhw0=', 'operator': 'encrypt'}\n",
       "]"
      ]
     },
     "execution_count": 13,
     "metadata": {},
     "output_type": "execute_result"
    }
   ],
   "execution_count": 13
  },
  {
   "metadata": {
    "ExecuteTime": {
     "end_time": "2024-12-26T06:11:29.433589Z",
     "start_time": "2024-12-26T06:11:29.431386Z"
    }
   },
   "cell_type": "code",
   "source": [
    "# Fetch the anonymized text from the result.\n",
    "anonymized_text = anonymize_result.text\n",
    "\n",
    "# Fetch the anonynized entities from the result.\n",
    "anonymized_entities = anonymize_result.items\n",
    "print(anonymized_entities)"
   ],
   "id": "80a09b95d4b14830",
   "outputs": [
    {
     "name": "stdout",
     "output_type": "stream",
     "text": [
      "[{'start': 55, 'end': 99, 'entity_type': 'PHONE_NUMBER', 'text': 'm4c0PqH2dWoTvz0B9qAq+3zGwMduIYNnOTbzyiVWZb8=', 'operator': 'encrypt'}, {'start': 5, 'end': 49, 'entity_type': 'PERSON', 'text': 'ItFStolVoqU7NnlMwDc7YdYtwKPsF6OxHshahz1Fhw0=', 'operator': 'encrypt'}]\n"
     ]
    }
   ],
   "execution_count": 14
  },
  {
   "metadata": {
    "ExecuteTime": {
     "end_time": "2024-12-26T06:11:46.195605Z",
     "start_time": "2024-12-26T06:11:46.191975Z"
    }
   },
   "cell_type": "code",
   "source": [
    "# Initialize the engine:\n",
    "engine = DeanonymizeEngine()\n",
    "\n",
    "# Invoke the deanonymize function with the text, anonymizer results\n",
    "# and a 'decrypt' operator to get the original text as output.\n",
    "deanonymized_result = engine.deanonymize(\n",
    "    text=anonymized_text,\n",
    "    entities=anonymized_entities,\n",
    "    operators={\"PERSON\": OperatorConfig(\"decrypt\", {\"key\": crypto_key}),\n",
    "               \"PHONE_NUMBER\": OperatorConfig(\"decrypt\", {\"key\": crypto_key}),\n",
    "               },\n",
    ")\n",
    "\n",
    "deanonymized_result"
   ],
   "id": "c58441ae89094f46",
   "outputs": [
    {
     "data": {
      "text/plain": [
       "text: 我的名字是万国安，手机电话是18023333333\n",
       "items:\n",
       "[\n",
       "    {'start': 14, 'end': 25, 'entity_type': 'PHONE_NUMBER', 'text': '18023333333', 'operator': 'decrypt'},\n",
       "    {'start': 5, 'end': 8, 'entity_type': 'PERSON', 'text': '万国安', 'operator': 'decrypt'}\n",
       "]"
      ]
     },
     "execution_count": 16,
     "metadata": {},
     "output_type": "execute_result"
    }
   ],
   "execution_count": 16
  },
  {
   "metadata": {},
   "cell_type": "code",
   "outputs": [],
   "execution_count": null,
   "source": "",
   "id": "da59610d850cdb7a"
  }
 ],
 "metadata": {
  "kernelspec": {
   "display_name": "Python 3",
   "language": "python",
   "name": "python3"
  },
  "language_info": {
   "codemirror_mode": {
    "name": "ipython",
    "version": 2
   },
   "file_extension": ".py",
   "mimetype": "text/x-python",
   "name": "python",
   "nbconvert_exporter": "python",
   "pygments_lexer": "ipython2",
   "version": "2.7.6"
  }
 },
 "nbformat": 4,
 "nbformat_minor": 5
}
