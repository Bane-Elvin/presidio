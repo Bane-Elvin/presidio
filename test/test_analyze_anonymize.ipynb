{
 "cells": [
  {
   "metadata": {},
   "cell_type": "markdown",
   "source": "#### 输出模型相关属性",
   "id": "2cccf920491e7e34"
  },
  {
   "metadata": {
    "ExecuteTime": {
     "end_time": "2025-01-17T06:36:24.592964Z",
     "start_time": "2025-01-17T06:36:24.345177Z"
    }
   },
   "cell_type": "code",
   "source": [
    "from transformers import AutoModelForTokenClassification, AutoTokenizer, pipeline\n",
    "\n",
    "model_name_or_path = \"/home/elvin/NAS-Disk-1/program/models/NER/RoBERTa-ext-large-crf-chinese-finetuned-ner-v2\"\n",
    "tokenizer = AutoTokenizer.from_pretrained(model_name_or_path)\n",
    "model = AutoModelForTokenClassification.from_pretrained(model_name_or_path, return_dict=True, max_length=None)\n",
    "ner_pipe = pipeline(\"token-classification\", model=model, tokenizer=tokenizer, device=0, aggregation_strategy=\"simple\")\n",
    "res = ner_pipe(\"明略科技智能营销解决方案系列课程中，来自明略科技集团秒针系统全域营销测量事业部（OMI）产品经理周露露进行了主题为《挖掘自有媒体用户资产，优化营销策略》的分享。\")\n",
    "res\n"
   ],
   "id": "733752dad11de854",
   "outputs": [
    {
     "name": "stderr",
     "output_type": "stream",
     "text": [
      "Device set to use cuda:0\n",
      "Asking to truncate to max_length but no maximum length is provided and the model has no predefined maximum length. Default to no truncation.\n"
     ]
    },
    {
     "name": "stdout",
     "output_type": "stream",
     "text": [
      "[{'entity_group': 'company', 'score': np.float32(0.9997826), 'word': '明 略 科 技', 'start': 0, 'end': 4}, {'entity_group': 'company', 'score': np.float32(0.99398845), 'word': '明 略 科 技 集 团 秒 针 系 统 全 域 营 销 测 量 事 业 部', 'start': 20, 'end': 39}, {'entity_group': 'company', 'score': np.float32(0.76838565), 'word': 'omi', 'start': 40, 'end': 43}, {'entity_group': 'position', 'score': np.float32(0.9998225), 'word': '产 品 经 理', 'start': 44, 'end': 48}, {'entity_group': 'name', 'score': np.float32(0.9999423), 'word': '周 露 露', 'start': 48, 'end': 51}]\n"
     ]
    }
   ],
   "execution_count": 4
  },
  {
   "cell_type": "code",
   "id": "initial_id",
   "metadata": {
    "collapsed": true,
    "ExecuteTime": {
     "end_time": "2025-01-17T06:54:27.263116Z",
     "start_time": "2025-01-17T06:54:26.198266Z"
    }
   },
   "source": [
    "from presidio_analyzer import AnalyzerEngine\n",
    "from presidio_analyzer.nlp_engine import NerModelConfiguration, TransformersNlpEngine\n",
    "\n",
    "model_config = [\n",
    "    {\"lang_code\": \"zh\",\n",
    "     \"model_name\": {\n",
    "         \"spacy\": \"zh_core_web_lg\", # for tokenization, lemmatization\n",
    "         # \"transformers\": \"/home/elvin/NAS-Disk-1/program/models/NER/deid_roberta_i2b2\" # for NER\n",
    "         \"transformers\": \"/home/elvin/NAS-Disk-1/program/models/NER/RoBERTa-ext-large-crf-chinese-finetuned-ner-v2\"\n",
    "        }\n",
    "    }\n",
    "]\n",
    "\n",
    "mapping = dict(\n",
    "    position=\"LOCATION\",\n",
    "    name=\"PERSON\",\n",
    "    movie=\"TITLE\",\n",
    "    organization=\"ORGANIZATION\",\n",
    "    company=\"ORGANIZATION\",\n",
    "    book=\"TITLE\",\n",
    "    address=\"LOCATION\",\n",
    "    scene=\"LOCATION\",\n",
    "    mobile=\"PHONE_NUMBER\",\n",
    "    email=\"EMAIL\",\n",
    "    game=\"TITLE\",\n",
    "    government=\"ORGANIZATION\",\n",
    "    QQ=\"ID\",\n",
    "    vx=\"ID\",\n",
    ")\n",
    "\n",
    "labels_to_ignore = [\"O\"]\n",
    "\n",
    "ner_model_configuration = NerModelConfiguration(\n",
    "    model_to_presidio_entity_mapping=mapping,\n",
    "    alignment_mode=\"expand\", # \"strict\", \"contract\", \"expand\"\n",
    "    aggregation_strategy=\"max\", # \"simple\", \"first\", \"average\", \"max\"\n",
    "    labels_to_ignore = labels_to_ignore)\n",
    "\n",
    "transformers_nlp_engine = TransformersNlpEngine(\n",
    "    models=model_config,\n",
    "    ner_model_configuration=ner_model_configuration)\n",
    "\n",
    "# Transformer-based analyzer\n",
    "analyzer = AnalyzerEngine(\n",
    "    nlp_engine=transformers_nlp_engine,\n",
    "    supported_languages=[\"zh\"]\n",
    ")"
   ],
   "outputs": [
    {
     "name": "stderr",
     "output_type": "stream",
     "text": [
      "Device set to use cpu\n"
     ]
    }
   ],
   "execution_count": 18
  },
  {
   "metadata": {},
   "cell_type": "code",
   "outputs": [],
   "execution_count": null,
   "source": "",
   "id": "6dc2fd63cd754e62"
  },
  {
   "metadata": {},
   "cell_type": "markdown",
   "source": "中文 anonymize 测试",
   "id": "9694daaf082e56d3"
  },
  {
   "metadata": {
    "ExecuteTime": {
     "end_time": "2025-01-17T06:54:50.583600Z",
     "start_time": "2025-01-17T06:54:50.508207Z"
    }
   },
   "cell_type": "code",
   "source": [
    "from presidio_anonymizer import AnonymizerEngine, DeanonymizeEngine\n",
    "engine = AnonymizerEngine()\n",
    "analyzer_test = \"我是万国安，我的手机号是18023239232\"\n",
    "results_chinese = analyzer.analyze(text=analyzer_test, language=\"zh\")\n",
    "result = engine.anonymize(\n",
    "    text=analyzer_test, analyzer_results=results_chinese\n",
    ")\n",
    "print(result.text)"
   ],
   "id": "15874065302694f0",
   "outputs": [
    {
     "name": "stderr",
     "output_type": "stream",
     "text": [
      "Asking to truncate to max_length but no maximum length is provided and the model has no predefined maximum length. Default to no truncation.\n"
     ]
    },
    {
     "name": "stdout",
     "output_type": "stream",
     "text": [
      "我是<PERSON>，我的手机号是<PHONE_NUMBER>\n"
     ]
    }
   ],
   "execution_count": 19
  },
  {
   "metadata": {},
   "cell_type": "markdown",
   "source": "加密操作",
   "id": "3cea4fa696b4d2fe"
  },
  {
   "metadata": {},
   "cell_type": "markdown",
   "source": "#### Faker test",
   "id": "7b60eb9c6957bb73"
  },
  {
   "metadata": {
    "ExecuteTime": {
     "end_time": "2025-01-17T06:53:04.445963Z",
     "start_time": "2025-01-17T06:53:04.442103Z"
    }
   },
   "cell_type": "code",
   "source": [
    "from presidio_anonymizer import AnonymizerEngine\n",
    "from presidio_anonymizer.entities import OperatorConfig, EngineResult, RecognizerResult\n",
    "from faker import Faker\n",
    "\n",
    "\n",
    "fake = Faker('zh-CN')\n",
    "\n",
    "# Create faker function (note that it has to receive a value)\n",
    "def fake_name(x):\n",
    "    return fake.name()\n",
    "\n",
    "def fake_phone(x):\n",
    "    return fake.phone_number()\n",
    "\n",
    "# Create custom operator for the PERSON entity\n",
    "operators = {\"PERSON\": OperatorConfig(\"custom\", {\"lambda\": fake_name})}\n",
    "\n",
    "# Analyzer output\n",
    "analyzer_results = [RecognizerResult(entity_type=\"PERSON\", start=11, end=18, score=0.8)]\n",
    "\n",
    "text_to_anonymize = \"My name is Raphael and I like to fish.\"\n",
    "\n",
    "anonymizer = AnonymizerEngine()\n",
    "\n",
    "anonymized_results = anonymizer.anonymize(\n",
    "    text=text_to_anonymize, analyzer_results=analyzer_results, operators=operators\n",
    ")\n",
    "\n",
    "print(anonymized_results.text)"
   ],
   "id": "b9a3a4ae13513701",
   "outputs": [
    {
     "name": "stdout",
     "output_type": "stream",
     "text": [
      "My name is 谢丹丹 and I like to fish.\n"
     ]
    }
   ],
   "execution_count": 13
  },
  {
   "metadata": {
    "jupyter": {
     "is_executing": true
    },
    "ExecuteTime": {
     "start_time": "2025-01-17T07:09:13.972490Z"
    }
   },
   "cell_type": "code",
   "source": [
    "from presidio_anonymizer import AnonymizerEngine, DeanonymizeEngine\n",
    "from presidio_anonymizer.entities import (\n",
    "    RecognizerResult,\n",
    "    OperatorResult,\n",
    "    OperatorConfig,\n",
    ")\n",
    "from faker import Faker\n",
    "\n",
    "fake = Faker('zh-CN')\n",
    "\n",
    "def fake_name(x):\n",
    "    return fake.name()\n",
    "\n",
    "def fake_phone(x):\n",
    "    return fake.phone_number()"
   ],
   "id": "ac6ce1ee1071184e",
   "outputs": [],
   "execution_count": null
  },
  {
   "metadata": {
    "ExecuteTime": {
     "end_time": "2025-01-17T06:52:30.987484Z",
     "start_time": "2025-01-17T06:52:30.985207Z"
    }
   },
   "cell_type": "code",
   "source": "crypto_key = \"WmZq4t7w!z%C&F)J\"",
   "id": "8ba0171387225968",
   "outputs": [],
   "execution_count": 7
  },
  {
   "metadata": {
    "ExecuteTime": {
     "end_time": "2025-01-17T07:03:16.519559Z",
     "start_time": "2025-01-17T07:03:16.516371Z"
    }
   },
   "cell_type": "code",
   "source": [
    "engine = AnonymizerEngine()\n",
    "\n",
    "# Invoke the anonymize function with the text,\n",
    "# analyzer results (potentially coming from presidio-analyzer)\n",
    "# and an 'encrypt' operator to get an encrypted anonymization output:\n",
    "anonymize_result = engine.anonymize(\n",
    "    text=analyzer_test,\n",
    "    analyzer_results=results_chinese,\n",
    "    operators={\n",
    "        # \"PERSON\": OperatorConfig(\"custom\", {\"lambda\": fake_name}),\n",
    "        # \"PHONE_NUMBER\": OperatorConfig(\"custom\", {\"lambda\": fake_phone}),\n",
    "        \"PERSON\": OperatorConfig(\"encrypt\", {\"key\": crypto_key}),\n",
    "        \"PHONE_NUMBER\": OperatorConfig(\"encrypt\", {\"key\": crypto_key}),\n",
    "    },\n",
    ")\n",
    "\n",
    "print(anonymize_result.text)"
   ],
   "id": "42ab2fe86ddb7b01",
   "outputs": [
    {
     "name": "stdout",
     "output_type": "stream",
     "text": [
      "我是j9ZLZWSpvMIZHG4rdtHK3i9oGhk+03QU5nzscLO3tDo=，我的手机号是Ts+MF5yV2PamJY8EOzBKn728AvdMMyGfz25lwqwtDbg=\n"
     ]
    }
   ],
   "execution_count": 24
  },
  {
   "metadata": {
    "ExecuteTime": {
     "end_time": "2025-01-17T07:01:22.997727Z",
     "start_time": "2025-01-17T07:01:22.995281Z"
    }
   },
   "cell_type": "code",
   "source": [
    "# Fetch the anonymized text from the result.\n",
    "anonymized_text = anonymize_result.text\n",
    "\n",
    "\n",
    "# Fetch the anonynized entities from the result.\n",
    "anonymized_entities = anonymize_result.items\n",
    "print(anonymized_entities)"
   ],
   "id": "80a09b95d4b14830",
   "outputs": [
    {
     "name": "stdout",
     "output_type": "stream",
     "text": [
      "[{'start': 12, 'end': 23, 'entity_type': 'PHONE_NUMBER', 'text': '14551179183', 'operator': 'custom'}, {'start': 2, 'end': 5, 'entity_type': 'PERSON', 'text': '翁桂芝', 'operator': 'custom'}]\n"
     ]
    }
   ],
   "execution_count": 21
  },
  {
   "metadata": {
    "ExecuteTime": {
     "end_time": "2025-01-02T05:22:54.288870Z",
     "start_time": "2025-01-02T05:22:54.241279Z"
    }
   },
   "cell_type": "code",
   "source": [
    "# Initialize the engine:\n",
    "engine = DeanonymizeEngine()\n",
    "# anonymized_text = \"您的名字是 FQK5g598ofccQyB7qBhrZ1fr1mLEndh9sBeP8Wm66us=。\"\n",
    "# Invoke the deanonymize function with the text, anonymizer results\n",
    "# and a 'decrypt' operator to get the original text as output.\n",
    "deanonymized_result = engine.deanonymize(\n",
    "    text=anonymized_text,\n",
    "    entities=anonymized_entities,\n",
    "    operators={\"PERSON\": OperatorConfig(\"custom\", {\"lambda\": fake_name}),\n",
    "               \"PHONE_NUMBER\": OperatorConfig(\"decrypt\", {\"key\": crypto_key}),\n",
    "               },\n",
    ")\n",
    "\n",
    "deanonymized_result"
   ],
   "id": "c58441ae89094f46",
   "outputs": [
    {
     "ename": "InvalidParamError",
     "evalue": "Invalid operator class 'custom'.",
     "output_type": "error",
     "traceback": [
      "\u001B[0;31m---------------------------------------------------------------------------\u001B[0m",
      "\u001B[0;31mInvalidParamError\u001B[0m                         Traceback (most recent call last)",
      "Cell \u001B[0;32mIn[11], line 6\u001B[0m\n\u001B[1;32m      2\u001B[0m engine \u001B[38;5;241m=\u001B[39m DeanonymizeEngine()\n\u001B[1;32m      3\u001B[0m \u001B[38;5;66;03m# anonymized_text = \"您的名字是 FQK5g598ofccQyB7qBhrZ1fr1mLEndh9sBeP8Wm66us=。\"\u001B[39;00m\n\u001B[1;32m      4\u001B[0m \u001B[38;5;66;03m# Invoke the deanonymize function with the text, anonymizer results\u001B[39;00m\n\u001B[1;32m      5\u001B[0m \u001B[38;5;66;03m# and a 'decrypt' operator to get the original text as output.\u001B[39;00m\n\u001B[0;32m----> 6\u001B[0m deanonymized_result \u001B[38;5;241m=\u001B[39m \u001B[43mengine\u001B[49m\u001B[38;5;241;43m.\u001B[39;49m\u001B[43mdeanonymize\u001B[49m\u001B[43m(\u001B[49m\n\u001B[1;32m      7\u001B[0m \u001B[43m    \u001B[49m\u001B[43mtext\u001B[49m\u001B[38;5;241;43m=\u001B[39;49m\u001B[43manonymized_text\u001B[49m\u001B[43m,\u001B[49m\n\u001B[1;32m      8\u001B[0m \u001B[43m    \u001B[49m\u001B[43mentities\u001B[49m\u001B[38;5;241;43m=\u001B[39;49m\u001B[43manonymized_entities\u001B[49m\u001B[43m,\u001B[49m\n\u001B[1;32m      9\u001B[0m \u001B[43m    \u001B[49m\u001B[43moperators\u001B[49m\u001B[38;5;241;43m=\u001B[39;49m\u001B[43m{\u001B[49m\u001B[38;5;124;43m\"\u001B[39;49m\u001B[38;5;124;43mPERSON\u001B[39;49m\u001B[38;5;124;43m\"\u001B[39;49m\u001B[43m:\u001B[49m\u001B[43m \u001B[49m\u001B[43mOperatorConfig\u001B[49m\u001B[43m(\u001B[49m\u001B[38;5;124;43m\"\u001B[39;49m\u001B[38;5;124;43mcustom\u001B[39;49m\u001B[38;5;124;43m\"\u001B[39;49m\u001B[43m,\u001B[49m\u001B[43m \u001B[49m\u001B[43m{\u001B[49m\u001B[38;5;124;43m\"\u001B[39;49m\u001B[38;5;124;43mlambda\u001B[39;49m\u001B[38;5;124;43m\"\u001B[39;49m\u001B[43m:\u001B[49m\u001B[43m \u001B[49m\u001B[43mfake_name\u001B[49m\u001B[43m}\u001B[49m\u001B[43m)\u001B[49m\u001B[43m,\u001B[49m\n\u001B[1;32m     10\u001B[0m \u001B[43m               \u001B[49m\u001B[38;5;124;43m\"\u001B[39;49m\u001B[38;5;124;43mPHONE_NUMBER\u001B[39;49m\u001B[38;5;124;43m\"\u001B[39;49m\u001B[43m:\u001B[49m\u001B[43m \u001B[49m\u001B[43mOperatorConfig\u001B[49m\u001B[43m(\u001B[49m\u001B[38;5;124;43m\"\u001B[39;49m\u001B[38;5;124;43mdecrypt\u001B[39;49m\u001B[38;5;124;43m\"\u001B[39;49m\u001B[43m,\u001B[49m\u001B[43m \u001B[49m\u001B[43m{\u001B[49m\u001B[38;5;124;43m\"\u001B[39;49m\u001B[38;5;124;43mkey\u001B[39;49m\u001B[38;5;124;43m\"\u001B[39;49m\u001B[43m:\u001B[49m\u001B[43m \u001B[49m\u001B[43mcrypto_key\u001B[49m\u001B[43m}\u001B[49m\u001B[43m)\u001B[49m\u001B[43m,\u001B[49m\n\u001B[1;32m     11\u001B[0m \u001B[43m               \u001B[49m\u001B[43m}\u001B[49m\u001B[43m,\u001B[49m\n\u001B[1;32m     12\u001B[0m \u001B[43m)\u001B[49m\n\u001B[1;32m     14\u001B[0m deanonymized_result\n",
      "File \u001B[0;32m~/.conda/envs/envPre/lib/python3.9/site-packages/presidio_anonymizer/deanonymize_engine.py:30\u001B[0m, in \u001B[0;36mDeanonymizeEngine.deanonymize\u001B[0;34m(self, text, entities, operators)\u001B[0m\n\u001B[1;32m     16\u001B[0m \u001B[38;5;28;01mdef\u001B[39;00m \u001B[38;5;21mdeanonymize\u001B[39m(\n\u001B[1;32m     17\u001B[0m     \u001B[38;5;28mself\u001B[39m,\n\u001B[1;32m     18\u001B[0m     text: \u001B[38;5;28mstr\u001B[39m,\n\u001B[1;32m     19\u001B[0m     entities: List[OperatorResult],\n\u001B[1;32m     20\u001B[0m     operators: Dict[\u001B[38;5;28mstr\u001B[39m, OperatorConfig],\n\u001B[1;32m     21\u001B[0m ) \u001B[38;5;241m-\u001B[39m\u001B[38;5;241m>\u001B[39m EngineResult:\n\u001B[1;32m     22\u001B[0m \u001B[38;5;250m    \u001B[39m\u001B[38;5;124;03m\"\"\"\u001B[39;00m\n\u001B[1;32m     23\u001B[0m \u001B[38;5;124;03m    Receive the text, entities and operators to perform deanonymization over.\u001B[39;00m\n\u001B[1;32m     24\u001B[0m \n\u001B[0;32m   (...)\u001B[0m\n\u001B[1;32m     28\u001B[0m \u001B[38;5;124;03m    :return: EngineResult - the new text and data about the deanonymized entities.\u001B[39;00m\n\u001B[1;32m     29\u001B[0m \u001B[38;5;124;03m    \"\"\"\u001B[39;00m\n\u001B[0;32m---> 30\u001B[0m     \u001B[38;5;28;01mreturn\u001B[39;00m \u001B[38;5;28;43mself\u001B[39;49m\u001B[38;5;241;43m.\u001B[39;49m\u001B[43m_operate\u001B[49m\u001B[43m(\u001B[49m\u001B[43mtext\u001B[49m\u001B[43m,\u001B[49m\u001B[43m \u001B[49m\u001B[43mentities\u001B[49m\u001B[43m,\u001B[49m\u001B[43m \u001B[49m\u001B[43moperators\u001B[49m\u001B[43m,\u001B[49m\u001B[43m \u001B[49m\u001B[43mOperatorType\u001B[49m\u001B[38;5;241;43m.\u001B[39;49m\u001B[43mDeanonymize\u001B[49m\u001B[43m)\u001B[49m\n",
      "File \u001B[0;32m~/.conda/envs/envPre/lib/python3.9/site-packages/presidio_anonymizer/core/engine_base.py:54\u001B[0m, in \u001B[0;36mEngineBase._operate\u001B[0;34m(self, text, pii_entities, operators_metadata, operator_type, **operator_kwargs)\u001B[0m\n\u001B[1;32m     50\u001B[0m \u001B[38;5;28mself\u001B[39m\u001B[38;5;241m.\u001B[39mlogger\u001B[38;5;241m.\u001B[39mdebug(\u001B[38;5;124mf\u001B[39m\u001B[38;5;124m\"\u001B[39m\u001B[38;5;124mperforming operation \u001B[39m\u001B[38;5;132;01m{\u001B[39;00mentity\u001B[38;5;132;01m}\u001B[39;00m\u001B[38;5;124m\"\u001B[39m)\n\u001B[1;32m     51\u001B[0m operator_metadata \u001B[38;5;241m=\u001B[39m \u001B[38;5;28mself\u001B[39m\u001B[38;5;241m.\u001B[39m__get_entity_operator_metadata(\n\u001B[1;32m     52\u001B[0m     entity\u001B[38;5;241m.\u001B[39mentity_type, operators_metadata\n\u001B[1;32m     53\u001B[0m )\n\u001B[0;32m---> 54\u001B[0m changed_text \u001B[38;5;241m=\u001B[39m \u001B[38;5;28;43mself\u001B[39;49m\u001B[38;5;241;43m.\u001B[39;49m\u001B[43m__operate_on_text\u001B[49m\u001B[43m(\u001B[49m\n\u001B[1;32m     55\u001B[0m \u001B[43m    \u001B[49m\u001B[43mentity\u001B[49m\u001B[43m,\u001B[49m\u001B[43m \u001B[49m\u001B[43mtext_to_operate_on\u001B[49m\u001B[43m,\u001B[49m\u001B[43m \u001B[49m\u001B[43moperator_metadata\u001B[49m\u001B[43m,\u001B[49m\u001B[43m \u001B[49m\u001B[43moperator_type\u001B[49m\n\u001B[1;32m     56\u001B[0m \u001B[43m\u001B[49m\u001B[43m)\u001B[49m\n\u001B[1;32m     57\u001B[0m index_from_end \u001B[38;5;241m=\u001B[39m text_replace_builder\u001B[38;5;241m.\u001B[39mreplace_text_get_insertion_index(\n\u001B[1;32m     58\u001B[0m     changed_text, entity\u001B[38;5;241m.\u001B[39mstart, entity\u001B[38;5;241m.\u001B[39mend\n\u001B[1;32m     59\u001B[0m )\n\u001B[1;32m     61\u001B[0m \u001B[38;5;66;03m# The following creates an intermediate list of result entities,\u001B[39;00m\n\u001B[1;32m     62\u001B[0m \u001B[38;5;66;03m# ordered from end to start, and the indexes will be normalized\u001B[39;00m\n\u001B[1;32m     63\u001B[0m \u001B[38;5;66;03m# from start to end once the loop ends and the text length is deterministic.\u001B[39;00m\n",
      "File \u001B[0;32m~/.conda/envs/envPre/lib/python3.9/site-packages/presidio_anonymizer/core/engine_base.py:86\u001B[0m, in \u001B[0;36mEngineBase.__operate_on_text\u001B[0;34m(self, text_metadata, text_to_operate_on, operator_metadata, operator_type)\u001B[0m\n\u001B[1;32m     84\u001B[0m entity_type \u001B[38;5;241m=\u001B[39m text_metadata\u001B[38;5;241m.\u001B[39mentity_type\n\u001B[1;32m     85\u001B[0m \u001B[38;5;28mself\u001B[39m\u001B[38;5;241m.\u001B[39mlogger\u001B[38;5;241m.\u001B[39mdebug(\u001B[38;5;124mf\u001B[39m\u001B[38;5;124m\"\u001B[39m\u001B[38;5;124mgetting operator for \u001B[39m\u001B[38;5;132;01m{\u001B[39;00mentity_type\u001B[38;5;132;01m}\u001B[39;00m\u001B[38;5;124m\"\u001B[39m)\n\u001B[0;32m---> 86\u001B[0m operator \u001B[38;5;241m=\u001B[39m \u001B[38;5;28;43mself\u001B[39;49m\u001B[38;5;241;43m.\u001B[39;49m\u001B[43moperators_factory\u001B[49m\u001B[38;5;241;43m.\u001B[39;49m\u001B[43mcreate_operator_class\u001B[49m\u001B[43m(\u001B[49m\n\u001B[1;32m     87\u001B[0m \u001B[43m    \u001B[49m\u001B[43moperator_metadata\u001B[49m\u001B[38;5;241;43m.\u001B[39;49m\u001B[43moperator_name\u001B[49m\u001B[43m,\u001B[49m\u001B[43m \u001B[49m\u001B[43moperator_type\u001B[49m\n\u001B[1;32m     88\u001B[0m \u001B[43m\u001B[49m\u001B[43m)\u001B[49m\n\u001B[1;32m     89\u001B[0m \u001B[38;5;28mself\u001B[39m\u001B[38;5;241m.\u001B[39mlogger\u001B[38;5;241m.\u001B[39mdebug(\u001B[38;5;124mf\u001B[39m\u001B[38;5;124m\"\u001B[39m\u001B[38;5;124mvalidating operator \u001B[39m\u001B[38;5;132;01m{\u001B[39;00moperator\u001B[38;5;132;01m}\u001B[39;00m\u001B[38;5;124m for \u001B[39m\u001B[38;5;132;01m{\u001B[39;00mentity_type\u001B[38;5;132;01m}\u001B[39;00m\u001B[38;5;124m\"\u001B[39m)\n\u001B[1;32m     90\u001B[0m params \u001B[38;5;241m=\u001B[39m operator_metadata\u001B[38;5;241m.\u001B[39mparams\n",
      "File \u001B[0;32m~/.conda/envs/envPre/lib/python3.9/site-packages/presidio_anonymizer/operators/operators_factory.py:130\u001B[0m, in \u001B[0;36mOperatorsFactory.create_operator_class\u001B[0;34m(self, operator_name, operator_type)\u001B[0m\n\u001B[1;32m    128\u001B[0m \u001B[38;5;28;01mif\u001B[39;00m \u001B[38;5;129;01mnot\u001B[39;00m operator:\n\u001B[1;32m    129\u001B[0m     logger\u001B[38;5;241m.\u001B[39merror(\u001B[38;5;124mf\u001B[39m\u001B[38;5;124m\"\u001B[39m\u001B[38;5;124mNo such operator \u001B[39m\u001B[38;5;132;01m{\u001B[39;00moperator_name\u001B[38;5;132;01m}\u001B[39;00m\u001B[38;5;124m\"\u001B[39m)\n\u001B[0;32m--> 130\u001B[0m     \u001B[38;5;28;01mraise\u001B[39;00m InvalidParamError(\u001B[38;5;124mf\u001B[39m\u001B[38;5;124m\"\u001B[39m\u001B[38;5;124mInvalid operator class \u001B[39m\u001B[38;5;124m'\u001B[39m\u001B[38;5;132;01m{\u001B[39;00moperator_name\u001B[38;5;132;01m}\u001B[39;00m\u001B[38;5;124m'\u001B[39m\u001B[38;5;124m.\u001B[39m\u001B[38;5;124m\"\u001B[39m)\n\u001B[1;32m    132\u001B[0m \u001B[38;5;28;01mreturn\u001B[39;00m operator()\n",
      "\u001B[0;31mInvalidParamError\u001B[0m: Invalid operator class 'custom'."
     ]
    }
   ],
   "execution_count": 11
  },
  {
   "metadata": {},
   "cell_type": "code",
   "outputs": [],
   "execution_count": null,
   "source": "",
   "id": "da59610d850cdb7a"
  }
 ],
 "metadata": {
  "kernelspec": {
   "display_name": "Python 3",
   "language": "python",
   "name": "python3"
  },
  "language_info": {
   "codemirror_mode": {
    "name": "ipython",
    "version": 2
   },
   "file_extension": ".py",
   "mimetype": "text/x-python",
   "name": "python",
   "nbconvert_exporter": "python",
   "pygments_lexer": "ipython2",
   "version": "2.7.6"
  }
 },
 "nbformat": 4,
 "nbformat_minor": 5
}
