{
 "cells": [
  {
   "metadata": {},
   "cell_type": "markdown",
   "source": [
    "### 简单示例\n",
    "对于基于正则表达式或拒绝列表的简单识别器，我们可以利用提供的功能PatternRecognizer："
   ],
   "id": "845e1372ee7fe7c6"
  },
  {
   "metadata": {
    "ExecuteTime": {
     "end_time": "2024-12-26T11:38:40.395500Z",
     "start_time": "2024-12-26T11:38:38.733091Z"
    }
   },
   "cell_type": "code",
   "source": [
    "from presidio_analyzer import PatternRecognizer\n",
    "titles_recognizer = PatternRecognizer(supported_entity=\"TITLE\",\n",
    "                                      deny_list=[\"Mr.\",\"Mrs.\",\"Miss\"])\n"
   ],
   "id": "8bce22733b014c6b",
   "outputs": [
    {
     "name": "stderr",
     "output_type": "stream",
     "text": [
      "/home/elvin/.conda/envs/envPre/lib/python3.9/site-packages/tqdm/auto.py:21: TqdmWarning: IProgress not found. Please update jupyter and ipywidgets. See https://ipywidgets.readthedocs.io/en/stable/user_install.html\n",
      "  from .autonotebook import tqdm as notebook_tqdm\n"
     ]
    }
   ],
   "execution_count": 1
  },
  {
   "metadata": {},
   "cell_type": "markdown",
   "source": "也可以直接通过yaml文件指定规则统一导入，如下：",
   "id": "e4d1129463a01b23"
  },
  {
   "metadata": {
    "ExecuteTime": {
     "end_time": "2024-12-26T11:40:13.184593Z",
     "start_time": "2024-12-26T11:40:12.645638Z"
    }
   },
   "cell_type": "code",
   "source": [
    "from presidio_analyzer import AnalyzerEngine, AnalyzerEngineProvider\n",
    "\n",
    "analyzer_conf_file = \"./analyzer-config-all.yml\"\n",
    "\n",
    "provider = AnalyzerEngineProvider(\n",
    "    analyzer_engine_conf_file=analyzer_conf_file\n",
    "    )\n",
    "analyzer = provider.create_engine()\n",
    "\n",
    "results = analyzer.analyze(text=\"我的手机号是18023232323\", language=\"zh\")\n",
    "print(results)"
   ],
   "id": "bcebae2e55c79e55",
   "outputs": [
    {
     "name": "stdout",
     "output_type": "stream",
     "text": [
      "[type: PERSON, start: 2, end: 5, score: 0.85, type: DATE_TIME, start: 6, end: 17, score: 0.85]\n"
     ]
    }
   ],
   "execution_count": 3
  },
  {
   "metadata": {},
   "cell_type": "code",
   "outputs": [],
   "execution_count": null,
   "source": "",
   "id": "8fc9c9d7182eaaaf"
  }
 ],
 "metadata": {
  "kernelspec": {
   "display_name": "Python 3",
   "language": "python",
   "name": "python3"
  },
  "language_info": {
   "codemirror_mode": {
    "name": "ipython",
    "version": 2
   },
   "file_extension": ".py",
   "mimetype": "text/x-python",
   "name": "python",
   "nbconvert_exporter": "python",
   "pygments_lexer": "ipython2",
   "version": "2.7.6"
  }
 },
 "nbformat": 4,
 "nbformat_minor": 5
}
